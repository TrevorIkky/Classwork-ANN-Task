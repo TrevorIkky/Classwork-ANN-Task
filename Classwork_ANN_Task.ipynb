{
  "nbformat": 4,
  "nbformat_minor": 0,
  "metadata": {
    "colab": {
      "name": "Classwork-ANN-Task.ipynb",
      "provenance": [],
      "collapsed_sections": [],
      "include_colab_link": true
    },
    "kernelspec": {
      "name": "python3",
      "display_name": "Python 3"
    },
    "language_info": {
      "name": "python"
    }
  },
  "cells": [
    {
      "cell_type": "markdown",
      "metadata": {
        "id": "view-in-github",
        "colab_type": "text"
      },
      "source": [
        "<a href=\"https://colab.research.google.com/github/TrevorIkky/Classwork-ANN-Task/blob/main/Classwork_ANN_Task.ipynb\" target=\"_parent\"><img src=\"https://colab.research.google.com/assets/colab-badge.svg\" alt=\"Open In Colab\"/></a>"
      ]
    },
    {
      "cell_type": "code",
      "metadata": {
        "id": "-5of4j790LVG"
      },
      "source": [
        "import tensorflow as tf\n",
        "import pandas as pd\n",
        "import numpy as np\n",
        "import matplotlib.pyplot as plt\n",
        "import seaborn as sns\n",
        " \n",
        "from google.colab import files\n",
        "from sklearn.preprocessing import LabelEncoder, PowerTransformer\n",
        "from sklearn.linear_model import LassoCV\n",
        "from tensorflow.keras.callbacks import EarlyStopping\n",
        "from tensorflow.keras.losses import Huber\n",
        "from tensorflow.keras.optimizers import SGD\n",
        "from tensorflow.keras.layers import Dense\n",
        "from tensorflow.keras import Input\n",
        "from tensorflow.keras.models import Model\n",
        " \n",
        "tf.config.run_functions_eagerly(True)\n",
        "tf.data.experimental.enable_debug_mode()"
      ],
      "execution_count": 1,
      "outputs": []
    },
    {
      "cell_type": "code",
      "metadata": {
        "colab": {
          "resources": {
            "http://localhost:8080/nbextensions/google.colab/files.js": {
              "data": "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",
              "ok": true,
              "headers": [
                [
                  "content-type",
                  "application/javascript"
                ]
              ],
              "status": 200,
              "status_text": ""
            }
          },
          "base_uri": "https://localhost:8080/",
          "height": 109
        },
        "id": "VbsTS-8Nc89D",
        "outputId": "7224f6c1-e8f2-4eb8-93d2-bc60e9b1957a"
      },
      "source": [
        "files.upload()"
      ],
      "execution_count": 2,
      "outputs": [
        {
          "output_type": "display_data",
          "data": {
            "text/html": [
              "\n",
              "     <input type=\"file\" id=\"files-fa806780-bba2-48e8-8436-ff3e0dce613e\" name=\"files[]\" multiple disabled\n",
              "        style=\"border:none\" />\n",
              "     <output id=\"result-fa806780-bba2-48e8-8436-ff3e0dce613e\">\n",
              "      Upload widget is only available when the cell has been executed in the\n",
              "      current browser session. Please rerun this cell to enable.\n",
              "      </output>\n",
              "      <script src=\"/nbextensions/google.colab/files.js\"></script> "
            ],
            "text/plain": [
              "<IPython.core.display.HTML object>"
            ]
          },
          "metadata": {
            "tags": []
          }
        },
        {
          "output_type": "stream",
          "text": [
            "Saving Nairobi Office Price Ex.csv to Nairobi Office Price Ex (24).csv\n"
          ],
          "name": "stdout"
        },
        {
          "output_type": "execute_result",
          "data": {
            "text/plain": [
              "{'Nairobi Office Price Ex.csv': b'LOC,FUR,AMB,PROX_SCH,PROX_ROAD,PROX_MALL,WATER,HK_SER,SIZE,PRICE\\r\\nkaren,yes,serene,no,yes,yes,yes,yes,32.50234527,31.70700585\\r\\nmadaraka,yes,semi_serene,yes,yes,yes,no,no,53.42680403,68.77759598\\r\\nkaren,no,noisy,no,yes,yes,yes,yes,61.53035803,62.5623823\\r\\nkaren,yes,semi_serene,no,no,no,yes,yes,47.47563963,71.54663223\\r\\nburuburu,no,semi_serene,no,yes,yes,yes,yes,59.81320787,87.23092513\\r\\ndonholm,no,serene,no,no,yes,no,yes,55.14218841,78.21151827\\r\\nlangata,no,very_noisy,yes,yes,no,no,yes,52.21179669,79.64197305\\r\\nlangata,yes,serene,no,no,yes,yes,no,39.29956669,59.17148932\\r\\ndonholm,yes,semi_serene,yes,no,no,yes,no,48.10504169,75.3312423\\r\\nkaren,yes,serene,no,no,no,no,no,52.55001444,71.30087989\\r\\nmadaraka,yes,noisy,yes,yes,no,yes,yes,45.41973014,55.16567715\\r\\nlangata,no,semi_serene,yes,no,yes,yes,yes,54.35163488,82.47884676\\r\\nburuburu,yes,semi_serene,yes,yes,no,no,no,44.1640495,62.00892325\\r\\nkaren,yes,semi_serene,yes,yes,yes,yes,yes,58.16847072,75.39287043\\r\\n'}"
            ]
          },
          "metadata": {
            "tags": []
          },
          "execution_count": 2
        }
      ]
    },
    {
      "cell_type": "markdown",
      "metadata": {
        "id": "N-1DxkFMDIko"
      },
      "source": [
        "# **Nairobi Office Price Ex.csv**\n",
        "Group cols according to nominal, ordinal & numerical types.\n",
        "Define target variable: PRICE"
      ]
    },
    {
      "cell_type": "code",
      "metadata": {
        "id": "ZdYsr254bsXy",
        "colab": {
          "base_uri": "https://localhost:8080/",
          "height": 204
        },
        "outputId": "11d298d7-1c01-4c25-d64c-32896ad48a51"
      },
      "source": [
        "dataset = pd.read_csv('Nairobi Office Price Ex.csv')\n",
        "cols_nominal = ['LOC','FUR','WATER','HK_SER']\n",
        "cols_ordinal = ['AMB','PROX_SCH','PROX_ROAD','PROX_MALL']\n",
        "cols_numerical = ['SIZE']\n",
        "target_Y = ['PRICE']\n",
        "dataset.head()"
      ],
      "execution_count": 3,
      "outputs": [
        {
          "output_type": "execute_result",
          "data": {
            "text/html": [
              "<div>\n",
              "<style scoped>\n",
              "    .dataframe tbody tr th:only-of-type {\n",
              "        vertical-align: middle;\n",
              "    }\n",
              "\n",
              "    .dataframe tbody tr th {\n",
              "        vertical-align: top;\n",
              "    }\n",
              "\n",
              "    .dataframe thead th {\n",
              "        text-align: right;\n",
              "    }\n",
              "</style>\n",
              "<table border=\"1\" class=\"dataframe\">\n",
              "  <thead>\n",
              "    <tr style=\"text-align: right;\">\n",
              "      <th></th>\n",
              "      <th>LOC</th>\n",
              "      <th>FUR</th>\n",
              "      <th>AMB</th>\n",
              "      <th>PROX_SCH</th>\n",
              "      <th>PROX_ROAD</th>\n",
              "      <th>PROX_MALL</th>\n",
              "      <th>WATER</th>\n",
              "      <th>HK_SER</th>\n",
              "      <th>SIZE</th>\n",
              "      <th>PRICE</th>\n",
              "    </tr>\n",
              "  </thead>\n",
              "  <tbody>\n",
              "    <tr>\n",
              "      <th>0</th>\n",
              "      <td>karen</td>\n",
              "      <td>yes</td>\n",
              "      <td>serene</td>\n",
              "      <td>no</td>\n",
              "      <td>yes</td>\n",
              "      <td>yes</td>\n",
              "      <td>yes</td>\n",
              "      <td>yes</td>\n",
              "      <td>32.502345</td>\n",
              "      <td>31.707006</td>\n",
              "    </tr>\n",
              "    <tr>\n",
              "      <th>1</th>\n",
              "      <td>madaraka</td>\n",
              "      <td>yes</td>\n",
              "      <td>semi_serene</td>\n",
              "      <td>yes</td>\n",
              "      <td>yes</td>\n",
              "      <td>yes</td>\n",
              "      <td>no</td>\n",
              "      <td>no</td>\n",
              "      <td>53.426804</td>\n",
              "      <td>68.777596</td>\n",
              "    </tr>\n",
              "    <tr>\n",
              "      <th>2</th>\n",
              "      <td>karen</td>\n",
              "      <td>no</td>\n",
              "      <td>noisy</td>\n",
              "      <td>no</td>\n",
              "      <td>yes</td>\n",
              "      <td>yes</td>\n",
              "      <td>yes</td>\n",
              "      <td>yes</td>\n",
              "      <td>61.530358</td>\n",
              "      <td>62.562382</td>\n",
              "    </tr>\n",
              "    <tr>\n",
              "      <th>3</th>\n",
              "      <td>karen</td>\n",
              "      <td>yes</td>\n",
              "      <td>semi_serene</td>\n",
              "      <td>no</td>\n",
              "      <td>no</td>\n",
              "      <td>no</td>\n",
              "      <td>yes</td>\n",
              "      <td>yes</td>\n",
              "      <td>47.475640</td>\n",
              "      <td>71.546632</td>\n",
              "    </tr>\n",
              "    <tr>\n",
              "      <th>4</th>\n",
              "      <td>buruburu</td>\n",
              "      <td>no</td>\n",
              "      <td>semi_serene</td>\n",
              "      <td>no</td>\n",
              "      <td>yes</td>\n",
              "      <td>yes</td>\n",
              "      <td>yes</td>\n",
              "      <td>yes</td>\n",
              "      <td>59.813208</td>\n",
              "      <td>87.230925</td>\n",
              "    </tr>\n",
              "  </tbody>\n",
              "</table>\n",
              "</div>"
            ],
            "text/plain": [
              "        LOC  FUR          AMB PROX_SCH  ... WATER HK_SER       SIZE      PRICE\n",
              "0     karen  yes       serene       no  ...   yes    yes  32.502345  31.707006\n",
              "1  madaraka  yes  semi_serene      yes  ...    no     no  53.426804  68.777596\n",
              "2     karen   no        noisy       no  ...   yes    yes  61.530358  62.562382\n",
              "3     karen  yes  semi_serene       no  ...   yes    yes  47.475640  71.546632\n",
              "4  buruburu   no  semi_serene       no  ...   yes    yes  59.813208  87.230925\n",
              "\n",
              "[5 rows x 10 columns]"
            ]
          },
          "metadata": {
            "tags": []
          },
          "execution_count": 3
        }
      ]
    },
    {
      "cell_type": "markdown",
      "metadata": {
        "id": "vRqTZFR1DdUr"
      },
      "source": [
        "# **Encoding**\n",
        "Integer encoding for values in ordinal cols"
      ]
    },
    {
      "cell_type": "code",
      "metadata": {
        "id": "Mk_ONafderSB",
        "colab": {
          "base_uri": "https://localhost:8080/",
          "height": 204
        },
        "outputId": "67340d66-5539-45ab-8e56-d125abea1c78"
      },
      "source": [
        "for col in cols_ordinal:\n",
        "  label_encoder = LabelEncoder()\n",
        "  updated_col = label_encoder.fit_transform(dataset[col])\n",
        "  dataset[col] = updated_col\n",
        "\n",
        "dataset.head()"
      ],
      "execution_count": 4,
      "outputs": [
        {
          "output_type": "execute_result",
          "data": {
            "text/html": [
              "<div>\n",
              "<style scoped>\n",
              "    .dataframe tbody tr th:only-of-type {\n",
              "        vertical-align: middle;\n",
              "    }\n",
              "\n",
              "    .dataframe tbody tr th {\n",
              "        vertical-align: top;\n",
              "    }\n",
              "\n",
              "    .dataframe thead th {\n",
              "        text-align: right;\n",
              "    }\n",
              "</style>\n",
              "<table border=\"1\" class=\"dataframe\">\n",
              "  <thead>\n",
              "    <tr style=\"text-align: right;\">\n",
              "      <th></th>\n",
              "      <th>LOC</th>\n",
              "      <th>FUR</th>\n",
              "      <th>AMB</th>\n",
              "      <th>PROX_SCH</th>\n",
              "      <th>PROX_ROAD</th>\n",
              "      <th>PROX_MALL</th>\n",
              "      <th>WATER</th>\n",
              "      <th>HK_SER</th>\n",
              "      <th>SIZE</th>\n",
              "      <th>PRICE</th>\n",
              "    </tr>\n",
              "  </thead>\n",
              "  <tbody>\n",
              "    <tr>\n",
              "      <th>0</th>\n",
              "      <td>karen</td>\n",
              "      <td>yes</td>\n",
              "      <td>2</td>\n",
              "      <td>0</td>\n",
              "      <td>1</td>\n",
              "      <td>1</td>\n",
              "      <td>yes</td>\n",
              "      <td>yes</td>\n",
              "      <td>32.502345</td>\n",
              "      <td>31.707006</td>\n",
              "    </tr>\n",
              "    <tr>\n",
              "      <th>1</th>\n",
              "      <td>madaraka</td>\n",
              "      <td>yes</td>\n",
              "      <td>1</td>\n",
              "      <td>1</td>\n",
              "      <td>1</td>\n",
              "      <td>1</td>\n",
              "      <td>no</td>\n",
              "      <td>no</td>\n",
              "      <td>53.426804</td>\n",
              "      <td>68.777596</td>\n",
              "    </tr>\n",
              "    <tr>\n",
              "      <th>2</th>\n",
              "      <td>karen</td>\n",
              "      <td>no</td>\n",
              "      <td>0</td>\n",
              "      <td>0</td>\n",
              "      <td>1</td>\n",
              "      <td>1</td>\n",
              "      <td>yes</td>\n",
              "      <td>yes</td>\n",
              "      <td>61.530358</td>\n",
              "      <td>62.562382</td>\n",
              "    </tr>\n",
              "    <tr>\n",
              "      <th>3</th>\n",
              "      <td>karen</td>\n",
              "      <td>yes</td>\n",
              "      <td>1</td>\n",
              "      <td>0</td>\n",
              "      <td>0</td>\n",
              "      <td>0</td>\n",
              "      <td>yes</td>\n",
              "      <td>yes</td>\n",
              "      <td>47.475640</td>\n",
              "      <td>71.546632</td>\n",
              "    </tr>\n",
              "    <tr>\n",
              "      <th>4</th>\n",
              "      <td>buruburu</td>\n",
              "      <td>no</td>\n",
              "      <td>1</td>\n",
              "      <td>0</td>\n",
              "      <td>1</td>\n",
              "      <td>1</td>\n",
              "      <td>yes</td>\n",
              "      <td>yes</td>\n",
              "      <td>59.813208</td>\n",
              "      <td>87.230925</td>\n",
              "    </tr>\n",
              "  </tbody>\n",
              "</table>\n",
              "</div>"
            ],
            "text/plain": [
              "        LOC  FUR  AMB  PROX_SCH  ...  WATER  HK_SER       SIZE      PRICE\n",
              "0     karen  yes    2         0  ...    yes     yes  32.502345  31.707006\n",
              "1  madaraka  yes    1         1  ...     no      no  53.426804  68.777596\n",
              "2     karen   no    0         0  ...    yes     yes  61.530358  62.562382\n",
              "3     karen  yes    1         0  ...    yes     yes  47.475640  71.546632\n",
              "4  buruburu   no    1         0  ...    yes     yes  59.813208  87.230925\n",
              "\n",
              "[5 rows x 10 columns]"
            ]
          },
          "metadata": {
            "tags": []
          },
          "execution_count": 4
        }
      ]
    },
    {
      "cell_type": "code",
      "metadata": {
        "colab": {
          "base_uri": "https://localhost:8080/",
          "height": 1000
        },
        "id": "W9ZzusP5J-US",
        "outputId": "68456210-9fad-4f8f-92ed-098f200db379"
      },
      "source": [
        "\"\"\"\n",
        "Check for linear dependencies between cols using pairplot\n",
        "\"\"\"\n",
        "sns.pairplot(dataset, kind='reg', diag_kind='kde')"
      ],
      "execution_count": 5,
      "outputs": [
        {
          "output_type": "execute_result",
          "data": {
            "text/plain": [
              "<seaborn.axisgrid.PairGrid at 0x7f0dbf19f210>"
            ]
          },
          "metadata": {
            "tags": []
          },
          "execution_count": 5
        },
        {
          "output_type": "display_data",
          "data": {
            "image/png": "[encoded data removed]",
            "text/plain": [
              "<Figure size 1080x1080 with 42 Axes>"
            ]
          },
          "metadata": {
            "tags": [],
            "needs_background": "light"
          }
        }
      ]
    },
    {
      "cell_type": "code",
      "metadata": {
        "id": "pnIe4mKDg9Mi",
        "colab": {
          "base_uri": "https://localhost:8080/",
          "height": 224
        },
        "outputId": "9301cb9f-4e48-4489-dac4-7c7b2cc2de58"
      },
      "source": [
        "dummies = pd.get_dummies(dataset[cols_nominal])\n",
        "dataset = pd.concat([dummies, dataset], axis=1)\n",
        "dataset.drop(cols_nominal, axis=1, inplace=True)\n",
        "dataset.head()"
      ],
      "execution_count": 6,
      "outputs": [
        {
          "output_type": "execute_result",
          "data": {
            "text/html": [
              "<div>\n",
              "<style scoped>\n",
              "    .dataframe tbody tr th:only-of-type {\n",
              "        vertical-align: middle;\n",
              "    }\n",
              "\n",
              "    .dataframe tbody tr th {\n",
              "        vertical-align: top;\n",
              "    }\n",
              "\n",
              "    .dataframe thead th {\n",
              "        text-align: right;\n",
              "    }\n",
              "</style>\n",
              "<table border=\"1\" class=\"dataframe\">\n",
              "  <thead>\n",
              "    <tr style=\"text-align: right;\">\n",
              "      <th></th>\n",
              "      <th>LOC_buruburu</th>\n",
              "      <th>LOC_donholm</th>\n",
              "      <th>LOC_karen</th>\n",
              "      <th>LOC_langata</th>\n",
              "      <th>LOC_madaraka</th>\n",
              "      <th>FUR_no</th>\n",
              "      <th>FUR_yes</th>\n",
              "      <th>WATER_no</th>\n",
              "      <th>WATER_yes</th>\n",
              "      <th>HK_SER_no</th>\n",
              "      <th>HK_SER_yes</th>\n",
              "      <th>AMB</th>\n",
              "      <th>PROX_SCH</th>\n",
              "      <th>PROX_ROAD</th>\n",
              "      <th>PROX_MALL</th>\n",
              "      <th>SIZE</th>\n",
              "      <th>PRICE</th>\n",
              "    </tr>\n",
              "  </thead>\n",
              "  <tbody>\n",
              "    <tr>\n",
              "      <th>0</th>\n",
              "      <td>0</td>\n",
              "      <td>0</td>\n",
              "      <td>1</td>\n",
              "      <td>0</td>\n",
              "      <td>0</td>\n",
              "      <td>0</td>\n",
              "      <td>1</td>\n",
              "      <td>0</td>\n",
              "      <td>1</td>\n",
              "      <td>0</td>\n",
              "      <td>1</td>\n",
              "      <td>2</td>\n",
              "      <td>0</td>\n",
              "      <td>1</td>\n",
              "      <td>1</td>\n",
              "      <td>32.502345</td>\n",
              "      <td>31.707006</td>\n",
              "    </tr>\n",
              "    <tr>\n",
              "      <th>1</th>\n",
              "      <td>0</td>\n",
              "      <td>0</td>\n",
              "      <td>0</td>\n",
              "      <td>0</td>\n",
              "      <td>1</td>\n",
              "      <td>0</td>\n",
              "      <td>1</td>\n",
              "      <td>1</td>\n",
              "      <td>0</td>\n",
              "      <td>1</td>\n",
              "      <td>0</td>\n",
              "      <td>1</td>\n",
              "      <td>1</td>\n",
              "      <td>1</td>\n",
              "      <td>1</td>\n",
              "      <td>53.426804</td>\n",
              "      <td>68.777596</td>\n",
              "    </tr>\n",
              "    <tr>\n",
              "      <th>2</th>\n",
              "      <td>0</td>\n",
              "      <td>0</td>\n",
              "      <td>1</td>\n",
              "      <td>0</td>\n",
              "      <td>0</td>\n",
              "      <td>1</td>\n",
              "      <td>0</td>\n",
              "      <td>0</td>\n",
              "      <td>1</td>\n",
              "      <td>0</td>\n",
              "      <td>1</td>\n",
              "      <td>0</td>\n",
              "      <td>0</td>\n",
              "      <td>1</td>\n",
              "      <td>1</td>\n",
              "      <td>61.530358</td>\n",
              "      <td>62.562382</td>\n",
              "    </tr>\n",
              "    <tr>\n",
              "      <th>3</th>\n",
              "      <td>0</td>\n",
              "      <td>0</td>\n",
              "      <td>1</td>\n",
              "      <td>0</td>\n",
              "      <td>0</td>\n",
              "      <td>0</td>\n",
              "      <td>1</td>\n",
              "      <td>0</td>\n",
              "      <td>1</td>\n",
              "      <td>0</td>\n",
              "      <td>1</td>\n",
              "      <td>1</td>\n",
              "      <td>0</td>\n",
              "      <td>0</td>\n",
              "      <td>0</td>\n",
              "      <td>47.475640</td>\n",
              "      <td>71.546632</td>\n",
              "    </tr>\n",
              "    <tr>\n",
              "      <th>4</th>\n",
              "      <td>1</td>\n",
              "      <td>0</td>\n",
              "      <td>0</td>\n",
              "      <td>0</td>\n",
              "      <td>0</td>\n",
              "      <td>1</td>\n",
              "      <td>0</td>\n",
              "      <td>0</td>\n",
              "      <td>1</td>\n",
              "      <td>0</td>\n",
              "      <td>1</td>\n",
              "      <td>1</td>\n",
              "      <td>0</td>\n",
              "      <td>1</td>\n",
              "      <td>1</td>\n",
              "      <td>59.813208</td>\n",
              "      <td>87.230925</td>\n",
              "    </tr>\n",
              "  </tbody>\n",
              "</table>\n",
              "</div>"
            ],
            "text/plain": [
              "   LOC_buruburu  LOC_donholm  LOC_karen  ...  PROX_MALL       SIZE      PRICE\n",
              "0             0            0          1  ...          1  32.502345  31.707006\n",
              "1             0            0          0  ...          1  53.426804  68.777596\n",
              "2             0            0          1  ...          1  61.530358  62.562382\n",
              "3             0            0          1  ...          0  47.475640  71.546632\n",
              "4             1            0          0  ...          1  59.813208  87.230925\n",
              "\n",
              "[5 rows x 17 columns]"
            ]
          },
          "metadata": {
            "tags": []
          },
          "execution_count": 6
        }
      ]
    },
    {
      "cell_type": "markdown",
      "metadata": {
        "id": "JDOhXEIjD6dt"
      },
      "source": [
        "# **Power Transform Functions**\n",
        "These functions convert the distribution of feature values to match a gaussian distribution. Asymmetric feature values are converted to more symmetric values to boost the performance of linear models.\n"
      ]
    },
    {
      "cell_type": "code",
      "metadata": {
        "id": "p2063bp8i44W",
        "colab": {
          "base_uri": "https://localhost:8080/",
          "height": 224
        },
        "outputId": "f3379c39-8efa-44dc-fb7f-4bef7591053e"
      },
      "source": [
        "\n",
        "transformer = PowerTransformer()\n",
        "transformed_dataset = transformer.fit_transform(dataset)\n",
        "dataset = pd.DataFrame(transformed_dataset, columns=dataset.columns)\n",
        "dataset.head()"
      ],
      "execution_count": 7,
      "outputs": [
        {
          "output_type": "execute_result",
          "data": {
            "text/html": [
              "<div>\n",
              "<style scoped>\n",
              "    .dataframe tbody tr th:only-of-type {\n",
              "        vertical-align: middle;\n",
              "    }\n",
              "\n",
              "    .dataframe tbody tr th {\n",
              "        vertical-align: top;\n",
              "    }\n",
              "\n",
              "    .dataframe thead th {\n",
              "        text-align: right;\n",
              "    }\n",
              "</style>\n",
              "<table border=\"1\" class=\"dataframe\">\n",
              "  <thead>\n",
              "    <tr style=\"text-align: right;\">\n",
              "      <th></th>\n",
              "      <th>LOC_buruburu</th>\n",
              "      <th>LOC_donholm</th>\n",
              "      <th>LOC_karen</th>\n",
              "      <th>LOC_langata</th>\n",
              "      <th>LOC_madaraka</th>\n",
              "      <th>FUR_no</th>\n",
              "      <th>FUR_yes</th>\n",
              "      <th>WATER_no</th>\n",
              "      <th>WATER_yes</th>\n",
              "      <th>HK_SER_no</th>\n",
              "      <th>HK_SER_yes</th>\n",
              "      <th>AMB</th>\n",
              "      <th>PROX_SCH</th>\n",
              "      <th>PROX_ROAD</th>\n",
              "      <th>PROX_MALL</th>\n",
              "      <th>SIZE</th>\n",
              "      <th>PRICE</th>\n",
              "    </tr>\n",
              "  </thead>\n",
              "  <tbody>\n",
              "    <tr>\n",
              "      <th>0</th>\n",
              "      <td>-0.408248</td>\n",
              "      <td>-0.408248</td>\n",
              "      <td>1.341641</td>\n",
              "      <td>-0.522233</td>\n",
              "      <td>-0.408248</td>\n",
              "      <td>-0.745356</td>\n",
              "      <td>0.745356</td>\n",
              "      <td>-0.745356</td>\n",
              "      <td>0.745356</td>\n",
              "      <td>-0.745356</td>\n",
              "      <td>0.745356</td>\n",
              "      <td>0.907859</td>\n",
              "      <td>-1.0</td>\n",
              "      <td>0.866025</td>\n",
              "      <td>0.866025</td>\n",
              "      <td>-1.910520</td>\n",
              "      <td>-2.060592</td>\n",
              "    </tr>\n",
              "    <tr>\n",
              "      <th>1</th>\n",
              "      <td>-0.408248</td>\n",
              "      <td>-0.408248</td>\n",
              "      <td>-0.745356</td>\n",
              "      <td>-0.522233</td>\n",
              "      <td>2.449490</td>\n",
              "      <td>-0.745356</td>\n",
              "      <td>0.745356</td>\n",
              "      <td>1.341641</td>\n",
              "      <td>-1.341641</td>\n",
              "      <td>1.341641</td>\n",
              "      <td>-1.341641</td>\n",
              "      <td>-0.297095</td>\n",
              "      <td>1.0</td>\n",
              "      <td>0.866025</td>\n",
              "      <td>0.866025</td>\n",
              "      <td>0.316823</td>\n",
              "      <td>-0.178865</td>\n",
              "    </tr>\n",
              "    <tr>\n",
              "      <th>2</th>\n",
              "      <td>-0.408248</td>\n",
              "      <td>-0.408248</td>\n",
              "      <td>1.341641</td>\n",
              "      <td>-0.522233</td>\n",
              "      <td>-0.408248</td>\n",
              "      <td>1.341641</td>\n",
              "      <td>-1.341641</td>\n",
              "      <td>-0.745356</td>\n",
              "      <td>0.745356</td>\n",
              "      <td>-0.745356</td>\n",
              "      <td>0.745356</td>\n",
              "      <td>-1.761084</td>\n",
              "      <td>-1.0</td>\n",
              "      <td>0.866025</td>\n",
              "      <td>0.866025</td>\n",
              "      <td>1.699631</td>\n",
              "      <td>-0.673078</td>\n",
              "    </tr>\n",
              "    <tr>\n",
              "      <th>3</th>\n",
              "      <td>-0.408248</td>\n",
              "      <td>-0.408248</td>\n",
              "      <td>1.341641</td>\n",
              "      <td>-0.522233</td>\n",
              "      <td>-0.408248</td>\n",
              "      <td>-0.745356</td>\n",
              "      <td>0.745356</td>\n",
              "      <td>-0.745356</td>\n",
              "      <td>0.745356</td>\n",
              "      <td>-0.745356</td>\n",
              "      <td>0.745356</td>\n",
              "      <td>-0.297095</td>\n",
              "      <td>-1.0</td>\n",
              "      <td>-1.154701</td>\n",
              "      <td>-1.154701</td>\n",
              "      <td>-0.500955</td>\n",
              "      <td>0.069057</td>\n",
              "    </tr>\n",
              "    <tr>\n",
              "      <th>4</th>\n",
              "      <td>2.449490</td>\n",
              "      <td>-0.408248</td>\n",
              "      <td>-0.745356</td>\n",
              "      <td>-0.522233</td>\n",
              "      <td>-0.408248</td>\n",
              "      <td>1.341641</td>\n",
              "      <td>-1.341641</td>\n",
              "      <td>-0.745356</td>\n",
              "      <td>0.745356</td>\n",
              "      <td>-0.745356</td>\n",
              "      <td>0.745356</td>\n",
              "      <td>-0.297095</td>\n",
              "      <td>-1.0</td>\n",
              "      <td>0.866025</td>\n",
              "      <td>0.866025</td>\n",
              "      <td>1.379363</td>\n",
              "      <td>1.827632</td>\n",
              "    </tr>\n",
              "  </tbody>\n",
              "</table>\n",
              "</div>"
            ],
            "text/plain": [
              "   LOC_buruburu  LOC_donholm  LOC_karen  ...  PROX_MALL      SIZE     PRICE\n",
              "0     -0.408248    -0.408248   1.341641  ...   0.866025 -1.910520 -2.060592\n",
              "1     -0.408248    -0.408248  -0.745356  ...   0.866025  0.316823 -0.178865\n",
              "2     -0.408248    -0.408248   1.341641  ...   0.866025  1.699631 -0.673078\n",
              "3     -0.408248    -0.408248   1.341641  ...  -1.154701 -0.500955  0.069057\n",
              "4      2.449490    -0.408248  -0.745356  ...   0.866025  1.379363  1.827632\n",
              "\n",
              "[5 rows x 17 columns]"
            ]
          },
          "metadata": {
            "tags": []
          },
          "execution_count": 7
        }
      ]
    },
    {
      "cell_type": "markdown",
      "metadata": {
        "id": "yJfaWo6gEYV0"
      },
      "source": [
        "# **Lasso Regularization**\n",
        "Converts the coefficients (weights) of less important feature maps to 0.\n",
        "Uses L1 norm. <br>\n",
        "$\\hat{y} = w_1x_1 + w_2x_2 + ... w_nx_n$ where $w_i$ is the coeffient applied to linearly transform values.\n",
        "<br>\n",
        "$loss(y, \\hat{y}) + \\alpha\\sum_{i=1}^n |w_i|$\n",
        "\n",
        "Additionally, from the dataset take the price col as the target variable dataset y and remove the price col to form X dataset."
      ]
    },
    {
      "cell_type": "code",
      "metadata": {
        "id": "A-Uz5gtSu5mu",
        "colab": {
          "base_uri": "https://localhost:8080/"
        },
        "outputId": "f58522d6-4fd2-477e-d217-6cba3e57ff9e"
      },
      "source": [
        "y = dataset[\"PRICE\"]\n",
        "X = dataset.drop(\"PRICE\", axis=1)\n",
        "y"
      ],
      "execution_count": 8,
      "outputs": [
        {
          "output_type": "execute_result",
          "data": {
            "text/plain": [
              "0    -2.060592\n",
              "1    -0.178865\n",
              "2    -0.673078\n",
              "3     0.069057\n",
              "4     1.827632\n",
              "5     0.740273\n",
              "6     0.898605\n",
              "7    -0.908206\n",
              "8     0.436974\n",
              "9     0.046338\n",
              "10   -1.156423\n",
              "11    1.228105\n",
              "12   -0.713071\n",
              "13    0.443250\n",
              "Name: PRICE, dtype: float64"
            ]
          },
          "metadata": {
            "tags": []
          },
          "execution_count": 8
        }
      ]
    },
    {
      "cell_type": "code",
      "metadata": {
        "id": "E9QnTwfrqF1C",
        "colab": {
          "base_uri": "https://localhost:8080/"
        },
        "outputId": "15eba714-48cc-482e-805b-e6b66e964f6e"
      },
      "source": [
        "\"\"\"\n",
        "Define a linear model, \n",
        "\"\"\"\n",
        "C = LassoCV()\n",
        "C.fit(X, y)\n",
        "col_indices = [i for i, x in enumerate(C.coef_) if x != 0]\n",
        "print(f'Selected cols: {len(col_indices)} of {len(C.coef_)}')\n",
        "print(f'Cols: {X.columns[col_indices]}')"
      ],
      "execution_count": 9,
      "outputs": [
        {
          "output_type": "stream",
          "text": [
            "Selected cols: 3 of 16\n",
            "Cols: Index(['FUR_no', 'FUR_yes', 'SIZE'], dtype='object')\n"
          ],
          "name": "stdout"
        }
      ]
    },
    {
      "cell_type": "markdown",
      "metadata": {
        "id": "tNTXW1wZE_q9"
      },
      "source": [
        "# **L1 Embedding**\n",
        "Features who's coefficients = 0 are are split off the dataset leaving the $n$ most important features to be passed to the ANN"
      ]
    },
    {
      "cell_type": "code",
      "metadata": {
        "id": "9tiWMNbEuXZN"
      },
      "source": [
        "new_cols = X.columns[col_indices]\n",
        "X = X[new_cols]\n",
        "X_ds = X.to_numpy()\n",
        "y_ds = y.to_numpy()"
      ],
      "execution_count": 10,
      "outputs": []
    },
    {
      "cell_type": "markdown",
      "metadata": {
        "id": "DdugSPlVFc0j"
      },
      "source": [
        "Define a $tf.keras.Model$ Input shape is (None, 3) and three dense layers.\n",
        "The first 2 layers have an activation function $RELU(\\hat{y}) = max(\\hat{y}, 0)$The last layer does not have an activation function.\n",
        "Total number of trainable params = 2,369"
      ]
    },
    {
      "cell_type": "code",
      "metadata": {
        "id": "50U3-Dex09u-",
        "colab": {
          "base_uri": "https://localhost:8080/"
        },
        "outputId": "f4aa87e3-7451-4594-c5bd-e0a9b3a68a65"
      },
      "source": [
        "@tf.function\n",
        "def ANN() -> Model:\n",
        "  I = Input(shape=(3,))\n",
        "  x = Dense(64, activation='relu')(I)\n",
        "  x = Dense(32, activation='relu')(x)\n",
        "  x = Dense(1)(x)\n",
        "  return Model(I, x)  \n",
        "\n",
        "model = ANN()\n",
        "model.summary()"
      ],
      "execution_count": 11,
      "outputs": [
        {
          "output_type": "stream",
          "text": [
            "Model: \"model\"\n",
            "_________________________________________________________________\n",
            "Layer (type)                 Output Shape              Param #   \n",
            "=================================================================\n",
            "input_1 (InputLayer)         [(None, 3)]               0         \n",
            "_________________________________________________________________\n",
            "dense (Dense)                (None, 64)                256       \n",
            "_________________________________________________________________\n",
            "dense_1 (Dense)              (None, 32)                2080      \n",
            "_________________________________________________________________\n",
            "dense_2 (Dense)              (None, 1)                 33        \n",
            "=================================================================\n",
            "Total params: 2,369\n",
            "Trainable params: 2,369\n",
            "Non-trainable params: 0\n",
            "_________________________________________________________________\n"
          ],
          "name": "stdout"
        }
      ]
    },
    {
      "cell_type": "markdown",
      "metadata": {
        "id": "2zJrMMcQGQwy"
      },
      "source": [
        "# **Model compilation & training**\n",
        "Compile the model using the stochastic gradient descent as the optimizer, huber loss (loss function less sensitive to outliers) and mean squared error as the metrics. Early stopping is a $keras.callback$ that allows us to set an arbitrarily large epock size, the model will automatically stop when the loss value does not reduce for $n$ epochs.\n",
        "The last 2 rows in the dataset will be used for prediction to test the model's generalization"
      ]
    },
    {
      "cell_type": "code",
      "metadata": {
        "id": "GqxLeTdJ3v8-",
        "colab": {
          "base_uri": "https://localhost:8080/"
        },
        "outputId": "6a54a80d-d82b-4437-afa8-93ea328d655b"
      },
      "source": [
        "\n",
        "model.compile(optimizer=SGD(learning_rate=0.2), loss=Huber(), metrics='mse')\n",
        "early_stopping = EarlyStopping(patience=2, monitor='loss')\n",
        "history = model.fit(X_ds[:-2], y_ds[:-2], batch_size=15, epochs=300, callbacks=[early_stopping])"
      ],
      "execution_count": 12,
      "outputs": [
        {
          "output_type": "stream",
          "text": [
            "Epoch 1/300\n",
            "1/1 [==============================] - 0s 52ms/step - loss: 0.5195 - mse: 1.2282\n",
            "Epoch 2/300\n",
            "1/1 [==============================] - 0s 18ms/step - loss: 0.3649 - mse: 0.7903\n",
            "Epoch 3/300\n",
            "1/1 [==============================] - 0s 20ms/step - loss: 0.3044 - mse: 0.6434\n",
            "Epoch 4/300\n",
            "1/1 [==============================] - 0s 20ms/step - loss: 0.2690 - mse: 0.5671\n",
            "Epoch 5/300\n",
            "1/1 [==============================] - 0s 21ms/step - loss: 0.2477 - mse: 0.5272\n",
            "Epoch 6/300\n",
            "1/1 [==============================] - 0s 21ms/step - loss: 0.2317 - mse: 0.4980\n",
            "Epoch 7/300\n",
            "1/1 [==============================] - 0s 20ms/step - loss: 0.2191 - mse: 0.4746\n",
            "Epoch 8/300\n",
            "1/1 [==============================] - 0s 20ms/step - loss: 0.2116 - mse: 0.4598\n",
            "Epoch 9/300\n",
            "1/1 [==============================] - 0s 16ms/step - loss: 0.2055 - mse: 0.4469\n",
            "Epoch 10/300\n",
            "1/1 [==============================] - 0s 30ms/step - loss: 0.2008 - mse: 0.4355\n",
            "Epoch 11/300\n",
            "1/1 [==============================] - 0s 26ms/step - loss: 0.1967 - mse: 0.4251\n",
            "Epoch 12/300\n",
            "1/1 [==============================] - 0s 24ms/step - loss: 0.1933 - mse: 0.4186\n",
            "Epoch 13/300\n",
            "1/1 [==============================] - 0s 26ms/step - loss: 0.1906 - mse: 0.4110\n",
            "Epoch 14/300\n",
            "1/1 [==============================] - 0s 21ms/step - loss: 0.1881 - mse: 0.4047\n",
            "Epoch 15/300\n",
            "1/1 [==============================] - 0s 16ms/step - loss: 0.1856 - mse: 0.3976\n",
            "Epoch 16/300\n",
            "1/1 [==============================] - 0s 33ms/step - loss: 0.1835 - mse: 0.3923\n",
            "Epoch 17/300\n",
            "1/1 [==============================] - 0s 42ms/step - loss: 0.1817 - mse: 0.3891\n",
            "Epoch 18/300\n",
            "1/1 [==============================] - 0s 23ms/step - loss: 0.1798 - mse: 0.3829\n",
            "Epoch 19/300\n",
            "1/1 [==============================] - 0s 29ms/step - loss: 0.1780 - mse: 0.3777\n",
            "Epoch 20/300\n",
            "1/1 [==============================] - 0s 30ms/step - loss: 0.1766 - mse: 0.3736\n",
            "Epoch 21/300\n",
            "1/1 [==============================] - 0s 26ms/step - loss: 0.1753 - mse: 0.3702\n",
            "Epoch 22/300\n",
            "1/1 [==============================] - 0s 27ms/step - loss: 0.1739 - mse: 0.3677\n",
            "Epoch 23/300\n",
            "1/1 [==============================] - 0s 23ms/step - loss: 0.1728 - mse: 0.3639\n",
            "Epoch 24/300\n",
            "1/1 [==============================] - 0s 26ms/step - loss: 0.1717 - mse: 0.3602\n",
            "Epoch 25/300\n",
            "1/1 [==============================] - 0s 27ms/step - loss: 0.1707 - mse: 0.3575\n",
            "Epoch 26/300\n",
            "1/1 [==============================] - 0s 45ms/step - loss: 0.1696 - mse: 0.3541\n",
            "Epoch 27/300\n",
            "1/1 [==============================] - 0s 25ms/step - loss: 0.1686 - mse: 0.3513\n",
            "Epoch 28/300\n",
            "1/1 [==============================] - 0s 30ms/step - loss: 0.1676 - mse: 0.3482\n",
            "Epoch 29/300\n",
            "1/1 [==============================] - 0s 28ms/step - loss: 0.1667 - mse: 0.3457\n",
            "Epoch 30/300\n",
            "1/1 [==============================] - 0s 29ms/step - loss: 0.1658 - mse: 0.3430\n",
            "Epoch 31/300\n",
            "1/1 [==============================] - 0s 27ms/step - loss: 0.1649 - mse: 0.3402\n",
            "Epoch 32/300\n",
            "1/1 [==============================] - 0s 23ms/step - loss: 0.1641 - mse: 0.3378\n",
            "Epoch 33/300\n",
            "1/1 [==============================] - 0s 28ms/step - loss: 0.1631 - mse: 0.3349\n",
            "Epoch 34/300\n",
            "1/1 [==============================] - 0s 27ms/step - loss: 0.1605 - mse: 0.3267\n",
            "Epoch 35/300\n",
            "1/1 [==============================] - 0s 33ms/step - loss: 0.1595 - mse: 0.3246\n",
            "Epoch 36/300\n",
            "1/1 [==============================] - 0s 33ms/step - loss: 0.1586 - mse: 0.3223\n",
            "Epoch 37/300\n",
            "1/1 [==============================] - 0s 27ms/step - loss: 0.1576 - mse: 0.3204\n",
            "Epoch 38/300\n",
            "1/1 [==============================] - 0s 32ms/step - loss: 0.1567 - mse: 0.3186\n",
            "Epoch 39/300\n",
            "1/1 [==============================] - 0s 28ms/step - loss: 0.1559 - mse: 0.3173\n",
            "Epoch 40/300\n",
            "1/1 [==============================] - 0s 26ms/step - loss: 0.1549 - mse: 0.3157\n",
            "Epoch 41/300\n",
            "1/1 [==============================] - 0s 26ms/step - loss: 0.1541 - mse: 0.3147\n",
            "Epoch 42/300\n",
            "1/1 [==============================] - 0s 35ms/step - loss: 0.1533 - mse: 0.3142\n",
            "Epoch 43/300\n",
            "1/1 [==============================] - 0s 30ms/step - loss: 0.1524 - mse: 0.3133\n",
            "Epoch 44/300\n",
            "1/1 [==============================] - 0s 29ms/step - loss: 0.1517 - mse: 0.3114\n",
            "Epoch 45/300\n",
            "1/1 [==============================] - 0s 26ms/step - loss: 0.1510 - mse: 0.3116\n",
            "Epoch 46/300\n",
            "1/1 [==============================] - 0s 35ms/step - loss: 0.1503 - mse: 0.3105\n",
            "Epoch 47/300\n",
            "1/1 [==============================] - 0s 27ms/step - loss: 0.1496 - mse: 0.3100\n",
            "Epoch 48/300\n",
            "1/1 [==============================] - 0s 22ms/step - loss: 0.1491 - mse: 0.3089\n",
            "Epoch 49/300\n",
            "1/1 [==============================] - 0s 22ms/step - loss: 0.1486 - mse: 0.3085\n",
            "Epoch 50/300\n",
            "1/1 [==============================] - 0s 31ms/step - loss: 0.1482 - mse: 0.3076\n",
            "Epoch 51/300\n",
            "1/1 [==============================] - 0s 23ms/step - loss: 0.1478 - mse: 0.3074\n",
            "Epoch 52/300\n",
            "1/1 [==============================] - 0s 32ms/step - loss: 0.1473 - mse: 0.3066\n",
            "Epoch 53/300\n",
            "1/1 [==============================] - 0s 31ms/step - loss: 0.1469 - mse: 0.3056\n",
            "Epoch 54/300\n",
            "1/1 [==============================] - 0s 30ms/step - loss: 0.1465 - mse: 0.3050\n",
            "Epoch 55/300\n",
            "1/1 [==============================] - 0s 28ms/step - loss: 0.1462 - mse: 0.3045\n",
            "Epoch 56/300\n",
            "1/1 [==============================] - 0s 26ms/step - loss: 0.1457 - mse: 0.3032\n",
            "Epoch 57/300\n",
            "1/1 [==============================] - 0s 17ms/step - loss: 0.1453 - mse: 0.3027\n",
            "Epoch 58/300\n",
            "1/1 [==============================] - 0s 18ms/step - loss: 0.1449 - mse: 0.3016\n",
            "Epoch 59/300\n",
            "1/1 [==============================] - 0s 28ms/step - loss: 0.1446 - mse: 0.3010\n",
            "Epoch 60/300\n",
            "1/1 [==============================] - 0s 23ms/step - loss: 0.1442 - mse: 0.3001\n",
            "Epoch 61/300\n",
            "1/1 [==============================] - 0s 23ms/step - loss: 0.1439 - mse: 0.2995\n",
            "Epoch 62/300\n",
            "1/1 [==============================] - 0s 24ms/step - loss: 0.1435 - mse: 0.2984\n",
            "Epoch 63/300\n",
            "1/1 [==============================] - 0s 35ms/step - loss: 0.1432 - mse: 0.2978\n",
            "Epoch 64/300\n",
            "1/1 [==============================] - 0s 23ms/step - loss: 0.1428 - mse: 0.2965\n",
            "Epoch 65/300\n",
            "1/1 [==============================] - 0s 29ms/step - loss: 0.1425 - mse: 0.2960\n",
            "Epoch 66/300\n",
            "1/1 [==============================] - 0s 24ms/step - loss: 0.1421 - mse: 0.2951\n",
            "Epoch 67/300\n",
            "1/1 [==============================] - 0s 31ms/step - loss: 0.1417 - mse: 0.2941\n",
            "Epoch 68/300\n",
            "1/1 [==============================] - 0s 25ms/step - loss: 0.1414 - mse: 0.2934\n",
            "Epoch 69/300\n",
            "1/1 [==============================] - 0s 27ms/step - loss: 0.1411 - mse: 0.2925\n",
            "Epoch 70/300\n",
            "1/1 [==============================] - 0s 22ms/step - loss: 0.1407 - mse: 0.2913\n",
            "Epoch 71/300\n",
            "1/1 [==============================] - 0s 24ms/step - loss: 0.1418 - mse: 0.3010\n",
            "Epoch 72/300\n",
            "1/1 [==============================] - 0s 28ms/step - loss: 0.1410 - mse: 0.2917\n"
          ],
          "name": "stdout"
        }
      ]
    },
    {
      "cell_type": "code",
      "metadata": {
        "id": "QEChNT_G3NfX",
        "colab": {
          "base_uri": "https://localhost:8080/",
          "height": 607
        },
        "outputId": "14ead5ac-0961-41ee-f29f-d78a461a4cbe"
      },
      "source": [
        "plt.plot(history.history[\"loss\"])\n",
        "plt.title('Loss/Epoch')\n",
        "plt.ylabel('loss')\n",
        "plt.xlabel('epoch')\n",
        "plt.show()\n",
        "print('\\n')\n",
        "plt.plot(history.history[\"mse\"], color=\"purple\")\n",
        "plt.title('MSE/Epoch')\n",
        "plt.ylabel('MSE')\n",
        "plt.xlabel('epoch')\n",
        "plt.show()"
      ],
      "execution_count": 13,
      "outputs": [
        {
          "output_type": "display_data",
          "data": {
            "image/png": "[encoded data removed]",
            "text/plain": [
              "<Figure size 432x288 with 1 Axes>"
            ]
          },
          "metadata": {
            "tags": [],
            "needs_background": "light"
          }
        },
        {
          "output_type": "stream",
          "text": [
            "\n",
            "\n"
          ],
          "name": "stdout"
        },
        {
          "output_type": "display_data",
          "data": {
            "image/png": "[encoded data removed]",
            "text/plain": [
              "<Figure size 432x288 with 1 Axes>"
            ]
          },
          "metadata": {
            "tags": [],
            "needs_background": "light"
          }
        }
      ]
    },
    {
      "cell_type": "code",
      "metadata": {
        "id": "erT4ZCp3AphW",
        "colab": {
          "base_uri": "https://localhost:8080/"
        },
        "outputId": "3d41675c-961c-4d17-e078-60b9d4fe347c"
      },
      "source": [
        "eval_history = model.evaluate(X_ds, y_ds, batch_size=15)\n",
        "print(f'Loss: {eval_history[0]}, MSE: {eval_history[1]} ')"
      ],
      "execution_count": 14,
      "outputs": [
        {
          "output_type": "stream",
          "text": [
            "1/1 [==============================] - 0s 18ms/step - loss: 0.1451 - mse: 0.3007\n",
            "Loss: 0.14505746960639954, MSE: 0.3007330894470215 \n"
          ],
          "name": "stdout"
        }
      ]
    },
    {
      "cell_type": "markdown",
      "metadata": {
        "id": "Irz91Z9SIBeP"
      },
      "source": [
        "# **Model prediction & plots**\n",
        "The last 2 rows are used for prediction and a multi-bar graph compares the magnitute between a true value and a predicted value for the 2 instances passed to it."
      ]
    },
    {
      "cell_type": "code",
      "metadata": {
        "colab": {
          "base_uri": "https://localhost:8080/"
        },
        "id": "bVl9OgUL5Nx3",
        "outputId": "3a5e9a66-6c2c-4874-ba21-8a0c2f971255"
      },
      "source": [
        "X_predict = X_ds[-2: ]\n",
        "y_true = y_ds[-2: ]\n",
        "P = model.predict(X_predict).squeeze()\n",
        "print(f'True vals:\\n{y_true}\\nvs.\\nPredicted vals:\\n{P}')"
      ],
      "execution_count": 15,
      "outputs": [
        {
          "output_type": "stream",
          "text": [
            "True vals:\n",
            "[-0.71307098  0.44325019]\n",
            "vs.\n",
            "Predicted vals:\n",
            "[-0.60626686 -0.3813205 ]\n"
          ],
          "name": "stdout"
        }
      ]
    },
    {
      "cell_type": "code",
      "metadata": {
        "colab": {
          "base_uri": "https://localhost:8080/",
          "height": 295
        },
        "id": "xWZf9_d98PnY",
        "outputId": "7dd18a86-f5de-4e43-ff55-5ca4192102ad"
      },
      "source": [
        "X = ['R1', 'R2']\n",
        "X_axis = np.arange(len(X))\n",
        "plt.bar(X_axis - 0.2, y_true, 0.4, label = 'True val', color='magenta')\n",
        "plt.bar(X_axis + 0.2, P, 0.4, label = 'Predicted val', color='lime')\n",
        "plt.xticks(X_axis, X)\n",
        "plt.xlabel(\"Records\")\n",
        "plt.ylabel(\"Transformed Prices\")\n",
        "plt.title(\"Comparison between true & model predicted values\")\n",
        "plt.legend()\n",
        "plt.show()"
      ],
      "execution_count": 18,
      "outputs": [
        {
          "output_type": "display_data",
          "data": {
            "image/png": "[encoded data removed]",
            "text/plain": [
              "<Figure size 432x288 with 1 Axes>"
            ]
          },
          "metadata": {
            "tags": [],
            "needs_background": "light"
          }
        }
      ]
    }
  ]
}